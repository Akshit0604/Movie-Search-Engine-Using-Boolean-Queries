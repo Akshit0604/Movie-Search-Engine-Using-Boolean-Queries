{
 "cells": [
  {
   "cell_type": "code",
   "execution_count": 68,
   "metadata": {},
   "outputs": [
    {
     "name": "stdout",
     "output_type": "stream",
     "text": [
      "Number of matches:  2\n"
     ]
    },
    {
     "data": {
      "text/html": [
       "<div>\n",
       "<style scoped>\n",
       "    .dataframe tbody tr th:only-of-type {\n",
       "        vertical-align: middle;\n",
       "    }\n",
       "\n",
       "    .dataframe tbody tr th {\n",
       "        vertical-align: top;\n",
       "    }\n",
       "\n",
       "    .dataframe thead th {\n",
       "        text-align: right;\n",
       "    }\n",
       "</style>\n",
       "<table border=\"1\" class=\"dataframe\">\n",
       "  <thead>\n",
       "    <tr style=\"text-align: right;\">\n",
       "      <th></th>\n",
       "      <th>title</th>\n",
       "      <th>year</th>\n",
       "      <th>certificate</th>\n",
       "      <th>runtime</th>\n",
       "      <th>genre</th>\n",
       "      <th>rating</th>\n",
       "      <th>description</th>\n",
       "      <th>director</th>\n",
       "      <th>cast</th>\n",
       "    </tr>\n",
       "  </thead>\n",
       "  <tbody>\n",
       "    <tr>\n",
       "      <th>787</th>\n",
       "      <td>Ocean's Eleven</td>\n",
       "      <td>2001</td>\n",
       "      <td>PG-13</td>\n",
       "      <td>116 min</td>\n",
       "      <td>Crime, Thriller</td>\n",
       "      <td>7.7</td>\n",
       "      <td>Danny Ocean and his ten accomplices plan to ro...</td>\n",
       "      <td>Steven Soderbergh</td>\n",
       "      <td>George Clooney, Brad Pitt, Julia Roberts, Matt...</td>\n",
       "    </tr>\n",
       "    <tr>\n",
       "      <th>2659</th>\n",
       "      <td>Ocean's Thirteen</td>\n",
       "      <td>2007</td>\n",
       "      <td>PG-13</td>\n",
       "      <td>122 min</td>\n",
       "      <td>Crime, Thriller</td>\n",
       "      <td>6.9</td>\n",
       "      <td>Danny Ocean rounds up the boys for a third hei...</td>\n",
       "      <td>Steven Soderbergh</td>\n",
       "      <td>George Clooney, Brad Pitt, Matt Damon, Michael...</td>\n",
       "    </tr>\n",
       "  </tbody>\n",
       "</table>\n",
       "</div>"
      ],
      "text/plain": [
       "                 title  year certificate  runtime            genre  rating  \\\n",
       "787     Ocean's Eleven  2001       PG-13  116 min  Crime, Thriller     7.7   \n",
       "2659  Ocean's Thirteen  2007       PG-13  122 min  Crime, Thriller     6.9   \n",
       "\n",
       "                                            description           director  \\\n",
       "787   Danny Ocean and his ten accomplices plan to ro...  Steven Soderbergh   \n",
       "2659  Danny Ocean rounds up the boys for a third hei...  Steven Soderbergh   \n",
       "\n",
       "                                                   cast  \n",
       "787   George Clooney, Brad Pitt, Julia Roberts, Matt...  \n",
       "2659  George Clooney, Brad Pitt, Matt Damon, Michael...  "
      ]
     },
     "execution_count": 68,
     "metadata": {},
     "output_type": "execute_result"
    }
   ],
   "source": [
    "import pandas as pd\n",
    "\n",
    "# Read the data from 'IMDB_Data.csv'\n",
    "df = pd.read_csv('IMDB_Data.csv')\n",
    "\n",
    "# Define the query terms\n",
    "genre_query_terms= []\n",
    "cast_query_terms= ['Matt Damon', 'Brad Pitt']\n",
    "director_query_terms= []\n",
    "others_query_terms= []\n",
    "\n",
    "# Create a boolean mask for each query term\n",
    "query_masks = []\n",
    "for term in genre_query_terms:\n",
    "    query_masks.append(df['genre'].str.contains(term, case=False))\n",
    "    \n",
    "for term in cast_query_terms:\n",
    "    query_masks.append(df['cast'].str.contains(term, case=False))\n",
    "\n",
    "for term in director_query_terms:\n",
    "    query_masks.append(df['director'].str.contains(term, case=False))\n",
    "\n",
    "for term in others_query_terms:\n",
    "    query_masks.append(df['description'].str.contains(term, case=False))\n",
    "\n",
    "# Combine the boolean masks using logical AND\n",
    "combined_mask = query_masks[0]\n",
    "for mask in query_masks[:]:\n",
    "    combined_mask &= mask\n",
    "\n",
    "# Apply the combined mask to filter the data\n",
    "filtered_data = df[combined_mask]\n",
    "\n",
    "# Sort the filtered data by 'Rating' in descending order\n",
    "sorted_data = filtered_data.sort_values(by='rating', ascending=False)\n",
    "print(\"Number of matches: \", len(sorted_data))\n",
    "sorted_data"
   ]
  }
 ],
 "metadata": {
  "kernelspec": {
   "display_name": "Python 3",
   "language": "python",
   "name": "python3"
  },
  "language_info": {
   "codemirror_mode": {
    "name": "ipython",
    "version": 3
   },
   "file_extension": ".py",
   "mimetype": "text/x-python",
   "name": "python",
   "nbconvert_exporter": "python",
   "pygments_lexer": "ipython3",
   "version": "3.11.8"
  }
 },
 "nbformat": 4,
 "nbformat_minor": 2
}
